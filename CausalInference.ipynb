{
 "cells": [
  {
   "cell_type": "markdown",
   "id": "fundamental-investment",
   "metadata": {},
   "source": [
    "# Causal Inference:"
   ]
  },
  {
   "cell_type": "markdown",
   "id": "loved-federation",
   "metadata": {},
   "source": [
    "In this post , we are going to talk about fundamentals of Causal Inference and how it is crucial in real life problems.\n",
    "\n",
    "Causal inference is nothing but \n",
    "\n",
    "Cuasal inference is totally different than prediction. As data scientists, we are always used to meke predictions and overcomming benchmarks. Althought, the inference approach is about a deep understanding of the problem in a scientific way. \n",
    "This topic make us look at a problem in a Scientific view instead of a data view. As we are going to discuss, traditional predictive models rely on the fact that the future data are similar from what the model is accustomed to. But, when it changes, the model may terrible fail, even when in the traing (and also test) achieve greats results. \n",
    "t.\n",
    "\n",
    "Ultimately, causal inference is about figuring out how the world really works, stripped of all delusions and misinterpretations. And now that we understand this, we can move forward to mastering some of the most powerful methods to remove bias, the weapons of the Brave and True to identify the causal effect.\n",
    "\n",
    "To begun, we are goin top use the Directed acyclical Graph (DAG) as a useful tool to underestand causal association between two variables. Here is an generic example: \n"
   ]
  },
  {
   "cell_type": "code",
   "execution_count": 1,
   "id": "clean-inventory",
   "metadata": {},
   "outputs": [
    {
     "name": "stderr",
     "output_type": "stream",
     "text": [
      "WARNING (theano.configdefaults): g++ not available, if using conda: `conda install m2w64-toolchain`\n",
      "WARNING (theano.configdefaults): g++ not detected ! Theano will be unable to execute optimized C-implementations (for both CPU and GPU) and will default to Python implementations. Performance will be severely degraded. To remove this warning, set Theano flags cxx to an empty string.\n",
      "WARNING (theano.tensor.blas): Using NumPy C-API based implementation for BLAS functions.\n"
     ]
    }
   ],
   "source": [
    "import warnings\n",
    "\n",
    "import arviz as az\n",
    "import matplotlib.pyplot as plt\n",
    "import numpy as np\n",
    "import pandas as pd\n",
    "import pymc3 as pm\n",
    "import seaborn as sns\n",
    "\n",
    "import graphviz as gr\n",
    "\n",
    "from scipy import stats\n",
    "from scipy.optimize import curve_fit\n",
    "\n",
    "import daft\n",
    "from causalgraphicalmodels import CausalGraphicalModel\n",
    "\n",
    "warnings.simplefilter(action=\"ignore\", category=FutureWarning)\n"
   ]
  },
  {
   "cell_type": "markdown",
   "id": "lasting-possibility",
   "metadata": {},
   "source": [
    "We first began wit a generical examples. In statistics is also a good idea the generate a sitetic data that we already know all the awnsers about that data. This simple example is good to show same key concepts in Causal Inference. \n",
    "\n",
    "The next example are a fungus treatment in plants growth. We are going to define some plants heights that is the initial measurement, some plants suffer with fungus and it make a deacresement in the plants growth. Other plants recieves a treatment for the fungus, so the probability of the fungus interview in the plant decrease. \n",
    "\n",
    "It is specially important in this context due to the fundamental problem of causal inference, we can never know the individual treatment effect because we only observe one of the potential outcomes. The treatment means a variable the has a causal effect on another. \n",
    "\n",
    "So, here is the example:\n",
    "\n",
    "Let's define the variables:"
   ]
  },
  {
   "cell_type": "code",
   "execution_count": 2,
   "id": "informed-enzyme",
   "metadata": {},
   "outputs": [
    {
     "data": {
      "image/png": "[encoded data removed]",
      "text/plain": [
       "<Figure size 266.457x39.685 with 1 Axes>"
      ]
     },
     "metadata": {},
     "output_type": "display_data"
    }
   ],
   "source": [
    "\n",
    "plant_dag = CausalGraphicalModel(\n",
    "    nodes=[\"H0\", \"H1\", \"F\", \"T\"], edges=[(\"H0\", \"H1\"), (\"F\", \"H1\"), (\"T\", \"F\")]\n",
    ")\n",
    "pgm = daft.PGM()\n",
    "coordinates = {\"H0\": (0, 0), \"T\": (4, 0), \"F\": (3, 0), \"H1\": (2, 0)}\n",
    "for node in plant_dag.dag.nodes:\n",
    "    pgm.add_node(node, node, *coordinates[node])\n",
    "for edge in plant_dag.dag.edges:\n",
    "    pgm.add_edge(*edge)\n",
    "pgm.render()\n",
    "plt.gca().invert_yaxis()\n"
   ]
  },
  {
   "cell_type": "code",
   "execution_count": 2,
   "id": "faced-knife",
   "metadata": {},
   "outputs": [
    {
     "data": {
      "text/html": [
       "<div>\n",
       "<style scoped>\n",
       "    .dataframe tbody tr th:only-of-type {\n",
       "        vertical-align: middle;\n",
       "    }\n",
       "\n",
       "    .dataframe tbody tr th {\n",
       "        vertical-align: top;\n",
       "    }\n",
       "\n",
       "    .dataframe thead th {\n",
       "        text-align: right;\n",
       "    }\n",
       "</style>\n",
       "<table border=\"1\" class=\"dataframe\">\n",
       "  <thead>\n",
       "    <tr style=\"text-align: right;\">\n",
       "      <th></th>\n",
       "      <th>mean</th>\n",
       "      <th>sd</th>\n",
       "      <th>hdi_3%</th>\n",
       "      <th>hdi_97%</th>\n",
       "    </tr>\n",
       "  </thead>\n",
       "  <tbody>\n",
       "    <tr>\n",
       "      <th>h0</th>\n",
       "      <td>9.96</td>\n",
       "      <td>2.04</td>\n",
       "      <td>6.34</td>\n",
       "      <td>13.75</td>\n",
       "    </tr>\n",
       "    <tr>\n",
       "      <th>h1</th>\n",
       "      <td>14.06</td>\n",
       "      <td>2.81</td>\n",
       "      <td>9.14</td>\n",
       "      <td>18.77</td>\n",
       "    </tr>\n",
       "    <tr>\n",
       "      <th>treatment</th>\n",
       "      <td>0.50</td>\n",
       "      <td>0.50</td>\n",
       "      <td>0.00</td>\n",
       "      <td>1.00</td>\n",
       "    </tr>\n",
       "    <tr>\n",
       "      <th>fungus</th>\n",
       "      <td>0.30</td>\n",
       "      <td>0.46</td>\n",
       "      <td>0.00</td>\n",
       "      <td>1.00</td>\n",
       "    </tr>\n",
       "  </tbody>\n",
       "</table>\n",
       "</div>"
      ],
      "text/plain": [
       "            mean    sd  hdi_3%  hdi_97%\n",
       "h0          9.96  2.04    6.34    13.75\n",
       "h1         14.06  2.81    9.14    18.77\n",
       "treatment   0.50  0.50    0.00     1.00\n",
       "fungus      0.30  0.46    0.00     1.00"
      ]
     },
     "execution_count": 2,
     "metadata": {},
     "output_type": "execute_result"
    }
   ],
   "source": [
    "# number of plants\n",
    "N = 100\n",
    "# simulate initial heights\n",
    "h0 = np.random.normal(10, 2, N)\n",
    "# assign treatments and simulate fungus and growth\n",
    "treatment = np.repeat([0, 1], N / 2)\n",
    "fungus = np.random.binomial(n=1, p=0.5 - treatment * 0.4, size=N)\n",
    "h1 = h0 + np.random.normal(5 - 3 * fungus, size=N)\n",
    "# compose a clean data frame\n",
    "d = pd.DataFrame.from_dict({\"h0\": h0, \"h1\": h1, \"treatment\": treatment, \"fungus\": fungus})\n",
    "\n",
    "az.summary(d.to_dict(orient=\"list\"), kind=\"stats\", round_to=2)"
   ]
  },
  {
   "cell_type": "markdown",
   "id": "wicked-sphere",
   "metadata": {},
   "source": [
    "The \"h0\" variable means the initial height, h1 is the final measurement. The treatment is the proportion of plants that recived the fungus medicine; and the fungus is the proportion of plants that has the fungus in the segond growth measurement. \n",
    "\n",
    "Now, the big question is: The treatment really helped in the plant's growth? How to prove it? \n",
    "\n",
    "Maybe it seen like a simple quastion, but it is not. In a real scenario, we just have the data, and we don't know how is the truth unter the numbers. What we want is know if there isn't treatment, what would be the the heights of thats plants. Notice that is a question with no awnser, we can't observate this parallel world. \n",
    "\n",
    "It is a hot question because there is many factor that interfiers in the height of the plants, like water, shainy, and the genetics of being susceptible to fungus. So, based on that we have two possible hypotesis. The first is that the treatment really works, and if we do not apply it, the final heights would be smaller. The second is that the treatment do not works and the plants height are the same as if we do not apply the treatment. \n",
    "\n",
    "Can you figure out how solve this? \n"
   ]
  },
  {
   "cell_type": "markdown",
   "id": "nasty-charlotte",
   "metadata": {},
   "source": [
    "The proportion of growth p is now a function of the predictor variables."
   ]
  },
  {
   "cell_type": "code",
   "execution_count": 7,
   "id": "floppy-photographer",
   "metadata": {},
   "outputs": [
    {
     "data": {
      "text/html": [
       "<div>\n",
       "<style scoped>\n",
       "    .dataframe tbody tr th:only-of-type {\n",
       "        vertical-align: middle;\n",
       "    }\n",
       "\n",
       "    .dataframe tbody tr th {\n",
       "        vertical-align: top;\n",
       "    }\n",
       "\n",
       "    .dataframe thead th {\n",
       "        text-align: right;\n",
       "    }\n",
       "</style>\n",
       "<table border=\"1\" class=\"dataframe\">\n",
       "  <thead>\n",
       "    <tr style=\"text-align: right;\">\n",
       "      <th></th>\n",
       "      <th>mean</th>\n",
       "      <th>sd</th>\n",
       "      <th>hdi_3%</th>\n",
       "      <th>hdi_97%</th>\n",
       "    </tr>\n",
       "  </thead>\n",
       "  <tbody>\n",
       "    <tr>\n",
       "      <th>x</th>\n",
       "      <td>1.03</td>\n",
       "      <td>0.26</td>\n",
       "      <td>0.59</td>\n",
       "      <td>1.51</td>\n",
       "    </tr>\n",
       "  </tbody>\n",
       "</table>\n",
       "</div>"
      ],
      "text/plain": [
       "   mean    sd  hdi_3%  hdi_97%\n",
       "x  1.03  0.26    0.59     1.51"
      ]
     },
     "execution_count": 7,
     "metadata": {},
     "output_type": "execute_result"
    }
   ],
   "source": [
    "# p is the proportion of growth\n",
    "# lets define the priori \n",
    "sim_p = np.random.lognormal(0, 0.25, int(1e4))\n",
    "az.summary(sim_p, kind=\"stats\", round_to=2)"
   ]
  },
  {
   "cell_type": "markdown",
   "id": "identified-symposium",
   "metadata": {},
   "source": [
    "Lets fit the simpliest model where the final height (h1) is based only by the initial height. \n",
    "This is the scenatio that we assume that the fungus do not interview in the plants growth. "
   ]
  },
  {
   "cell_type": "code",
   "execution_count": 8,
   "id": "pointed-boston",
   "metadata": {},
   "outputs": [
    {
     "name": "stderr",
     "output_type": "stream",
     "text": [
      "Auto-assigning NUTS sampler...\n",
      "Initializing NUTS using jitter+adapt_diag...\n",
      "c:\\users\\gcram\\miniconda3\\envs\\torch_env\\lib\\site-packages\\theano\\tensor\\elemwise.py:826: RuntimeWarning: divide by zero encountered in log\n",
      "  variables = ufunc(*ufunc_args, **ufunc_kwargs)\n",
      "c:\\users\\gcram\\miniconda3\\envs\\torch_env\\lib\\site-packages\\theano\\tensor\\elemwise.py:826: RuntimeWarning: invalid value encountered in multiply\n",
      "  variables = ufunc(*ufunc_args, **ufunc_kwargs)\n",
      "Multiprocess sampling (4 chains in 4 jobs)\n",
      "NUTS: [sigma, p]\n"
     ]
    },
    {
     "data": {
      "text/html": [
       "\n",
       "<style>\n",
       "    /* Turns off some styling */\n",
       "    progress {\n",
       "        /* gets rid of default border in Firefox and Opera. */\n",
       "        border: none;\n",
       "        /* Needs to be in here for Safari polyfill so background images work as expected. */\n",
       "        background-size: auto;\n",
       "    }\n",
       "    .progress-bar-interrupted, .progress-bar-interrupted::-webkit-progress-bar {\n",
       "        background: #F44336;\n",
       "    }\n",
       "</style>\n"
      ],
      "text/plain": [
       "<IPython.core.display.HTML object>"
      ]
     },
     "metadata": {},
     "output_type": "display_data"
    },
    {
     "data": {
      "text/html": [
       "\n",
       "    <div>\n",
       "      <progress value='8000' class='' max='8000' style='width:300px; height:20px; vertical-align: middle;'></progress>\n",
       "      100.00% [8000/8000 01:15<00:00 Sampling 4 chains, 0 divergences]\n",
       "    </div>\n",
       "    "
      ],
      "text/plain": [
       "<IPython.core.display.HTML object>"
      ]
     },
     "metadata": {},
     "output_type": "display_data"
    },
    {
     "name": "stderr",
     "output_type": "stream",
     "text": [
      "Sampling 4 chains for 1_000 tune and 1_000 draw iterations (4_000 + 4_000 draws total) took 85 seconds.\n",
      "The acceptance probability does not match the target. It is 0.8821156604519111, but should be close to 0.8. Try to increase the number of tuning steps.\n",
      "Got error No model on context stack. trying to find log_likelihood in translation.\n"
     ]
    },
    {
     "data": {
      "text/html": [
       "<div>\n",
       "<style scoped>\n",
       "    .dataframe tbody tr th:only-of-type {\n",
       "        vertical-align: middle;\n",
       "    }\n",
       "\n",
       "    .dataframe tbody tr th {\n",
       "        vertical-align: top;\n",
       "    }\n",
       "\n",
       "    .dataframe thead th {\n",
       "        text-align: right;\n",
       "    }\n",
       "</style>\n",
       "<table border=\"1\" class=\"dataframe\">\n",
       "  <thead>\n",
       "    <tr style=\"text-align: right;\">\n",
       "      <th></th>\n",
       "      <th>mean</th>\n",
       "      <th>sd</th>\n",
       "      <th>hdi_3%</th>\n",
       "      <th>hdi_97%</th>\n",
       "      <th>mcse_mean</th>\n",
       "      <th>mcse_sd</th>\n",
       "      <th>ess_bulk</th>\n",
       "      <th>ess_tail</th>\n",
       "      <th>r_hat</th>\n",
       "    </tr>\n",
       "  </thead>\n",
       "  <tbody>\n",
       "    <tr>\n",
       "      <th>p</th>\n",
       "      <td>1.42</td>\n",
       "      <td>0.02</td>\n",
       "      <td>1.38</td>\n",
       "      <td>1.46</td>\n",
       "      <td>0.0</td>\n",
       "      <td>0.0</td>\n",
       "      <td>3473.71</td>\n",
       "      <td>2700.54</td>\n",
       "      <td>1.0</td>\n",
       "    </tr>\n",
       "    <tr>\n",
       "      <th>sigma</th>\n",
       "      <td>1.99</td>\n",
       "      <td>0.15</td>\n",
       "      <td>1.73</td>\n",
       "      <td>2.26</td>\n",
       "      <td>0.0</td>\n",
       "      <td>0.0</td>\n",
       "      <td>3241.14</td>\n",
       "      <td>2705.75</td>\n",
       "      <td>1.0</td>\n",
       "    </tr>\n",
       "  </tbody>\n",
       "</table>\n",
       "</div>"
      ],
      "text/plain": [
       "       mean    sd  hdi_3%  hdi_97%  mcse_mean  mcse_sd  ess_bulk  ess_tail  \\\n",
       "p      1.42  0.02    1.38     1.46        0.0      0.0   3473.71   2700.54   \n",
       "sigma  1.99  0.15    1.73     2.26        0.0      0.0   3241.14   2705.75   \n",
       "\n",
       "       r_hat  \n",
       "p        1.0  \n",
       "sigma    1.0  "
      ]
     },
     "execution_count": 8,
     "metadata": {},
     "output_type": "execute_result"
    }
   ],
   "source": [
    "with pm.Model() as m_6_6:\n",
    "    p = pm.Lognormal(\"p\", 0, 0.25)\n",
    "    mu = p * d.h0\n",
    "    sigma = pm.Exponential(\"sigma\", 1)\n",
    "\n",
    "    h1 = pm.Normal(\"h1\", mu=mu, sigma=sigma, observed=d.h1)\n",
    "\n",
    "    m_6_6_trace = pm.sample()\n",
    "\n",
    "az.summary(m_6_6_trace, round_to=2)"
   ]
  },
  {
   "cell_type": "markdown",
   "id": "effective-atlantic",
   "metadata": {},
   "source": [
    "Notice the plants would grow 42 %, in mean, of the initial value"
   ]
  },
  {
   "cell_type": "code",
   "execution_count": 10,
   "id": "moderate-obligation",
   "metadata": {},
   "outputs": [
    {
     "name": "stderr",
     "output_type": "stream",
     "text": [
      "Auto-assigning NUTS sampler...\n",
      "Initializing NUTS using jitter+adapt_diag...\n",
      "c:\\users\\gcram\\miniconda3\\envs\\torch_env\\lib\\site-packages\\theano\\tensor\\elemwise.py:826: RuntimeWarning: divide by zero encountered in log\n",
      "  variables = ufunc(*ufunc_args, **ufunc_kwargs)\n",
      "c:\\users\\gcram\\miniconda3\\envs\\torch_env\\lib\\site-packages\\theano\\tensor\\elemwise.py:826: RuntimeWarning: invalid value encountered in multiply\n",
      "  variables = ufunc(*ufunc_args, **ufunc_kwargs)\n",
      "Multiprocess sampling (4 chains in 4 jobs)\n",
      "NUTS: [sigma, bf, bt, a]\n"
     ]
    },
    {
     "data": {
      "text/html": [
       "\n",
       "<style>\n",
       "    /* Turns off some styling */\n",
       "    progress {\n",
       "        /* gets rid of default border in Firefox and Opera. */\n",
       "        border: none;\n",
       "        /* Needs to be in here for Safari polyfill so background images work as expected. */\n",
       "        background-size: auto;\n",
       "    }\n",
       "    .progress-bar-interrupted, .progress-bar-interrupted::-webkit-progress-bar {\n",
       "        background: #F44336;\n",
       "    }\n",
       "</style>\n"
      ],
      "text/plain": [
       "<IPython.core.display.HTML object>"
      ]
     },
     "metadata": {},
     "output_type": "display_data"
    },
    {
     "data": {
      "text/html": [
       "\n",
       "    <div>\n",
       "      <progress value='8000' class='' max='8000' style='width:300px; height:20px; vertical-align: middle;'></progress>\n",
       "      100.00% [8000/8000 04:33<00:00 Sampling 4 chains, 0 divergences]\n",
       "    </div>\n",
       "    "
      ],
      "text/plain": [
       "<IPython.core.display.HTML object>"
      ]
     },
     "metadata": {},
     "output_type": "display_data"
    },
    {
     "name": "stderr",
     "output_type": "stream",
     "text": [
      "Sampling 4 chains for 1_000 tune and 1_000 draw iterations (4_000 + 4_000 draws total) took 283 seconds.\n",
      "Got error No model on context stack. trying to find log_likelihood in translation.\n"
     ]
    },
    {
     "data": {
      "text/html": [
       "<div>\n",
       "<style scoped>\n",
       "    .dataframe tbody tr th:only-of-type {\n",
       "        vertical-align: middle;\n",
       "    }\n",
       "\n",
       "    .dataframe tbody tr th {\n",
       "        vertical-align: top;\n",
       "    }\n",
       "\n",
       "    .dataframe thead th {\n",
       "        text-align: right;\n",
       "    }\n",
       "</style>\n",
       "<table border=\"1\" class=\"dataframe\">\n",
       "  <thead>\n",
       "    <tr style=\"text-align: right;\">\n",
       "      <th></th>\n",
       "      <th>mean</th>\n",
       "      <th>sd</th>\n",
       "      <th>hdi_3%</th>\n",
       "      <th>hdi_97%</th>\n",
       "      <th>mcse_mean</th>\n",
       "      <th>mcse_sd</th>\n",
       "      <th>ess_bulk</th>\n",
       "      <th>ess_tail</th>\n",
       "      <th>r_hat</th>\n",
       "    </tr>\n",
       "  </thead>\n",
       "  <tbody>\n",
       "    <tr>\n",
       "      <th>a</th>\n",
       "      <td>1.48</td>\n",
       "      <td>0.03</td>\n",
       "      <td>1.43</td>\n",
       "      <td>1.53</td>\n",
       "      <td>0.0</td>\n",
       "      <td>0.0</td>\n",
       "      <td>2119.33</td>\n",
       "      <td>2353.23</td>\n",
       "      <td>1.0</td>\n",
       "    </tr>\n",
       "    <tr>\n",
       "      <th>bt</th>\n",
       "      <td>0.02</td>\n",
       "      <td>0.03</td>\n",
       "      <td>-0.04</td>\n",
       "      <td>0.08</td>\n",
       "      <td>0.0</td>\n",
       "      <td>0.0</td>\n",
       "      <td>2271.51</td>\n",
       "      <td>2558.07</td>\n",
       "      <td>1.0</td>\n",
       "    </tr>\n",
       "    <tr>\n",
       "      <th>bf</th>\n",
       "      <td>-0.29</td>\n",
       "      <td>0.04</td>\n",
       "      <td>-0.36</td>\n",
       "      <td>-0.22</td>\n",
       "      <td>0.0</td>\n",
       "      <td>0.0</td>\n",
       "      <td>2202.37</td>\n",
       "      <td>2595.55</td>\n",
       "      <td>1.0</td>\n",
       "    </tr>\n",
       "    <tr>\n",
       "      <th>sigma</th>\n",
       "      <td>1.43</td>\n",
       "      <td>0.11</td>\n",
       "      <td>1.24</td>\n",
       "      <td>1.63</td>\n",
       "      <td>0.0</td>\n",
       "      <td>0.0</td>\n",
       "      <td>2652.83</td>\n",
       "      <td>2363.71</td>\n",
       "      <td>1.0</td>\n",
       "    </tr>\n",
       "  </tbody>\n",
       "</table>\n",
       "</div>"
      ],
      "text/plain": [
       "       mean    sd  hdi_3%  hdi_97%  mcse_mean  mcse_sd  ess_bulk  ess_tail  \\\n",
       "a      1.48  0.03    1.43     1.53        0.0      0.0   2119.33   2353.23   \n",
       "bt     0.02  0.03   -0.04     0.08        0.0      0.0   2271.51   2558.07   \n",
       "bf    -0.29  0.04   -0.36    -0.22        0.0      0.0   2202.37   2595.55   \n",
       "sigma  1.43  0.11    1.24     1.63        0.0      0.0   2652.83   2363.71   \n",
       "\n",
       "       r_hat  \n",
       "a        1.0  \n",
       "bt       1.0  \n",
       "bf       1.0  \n",
       "sigma    1.0  "
      ]
     },
     "execution_count": 10,
     "metadata": {},
     "output_type": "execute_result"
    }
   ],
   "source": [
    "with pm.Model() as m_6_7:\n",
    "    a = pm.Normal(\"a\", 0, 0.2)\n",
    "    bt = pm.Normal(\"bt\", 0, 0.5)\n",
    "    bf = pm.Normal(\"bf\", 0, 0.5)\n",
    "    p = a + bt * d.treatment + bf * d.fungus\n",
    "    mu = p * d.h0\n",
    "    sigma = pm.Exponential(\"sigma\", 1)\n",
    "    h1 = pm.Normal(\"h1\", mu=mu, sigma=sigma, observed=d.h1)\n",
    "    m_6_7_trace = pm.sample()\n",
    "az.summary(m_6_7_trace, round_to=2)"
   ]
  },
  {
   "cell_type": "markdown",
   "id": "directed-calculation",
   "metadata": {},
   "source": [
    "This outcomes seens weird. The parameter of the treatment are close to zero. But, we already know that the treatment have a significant impact on the plants growth. \n",
    "\n",
    "The first problem here is how to interpret the Linear regression parameters. Each parameter means the importance of knowing a variable if we already know the others. In this context, the information of the treatment of each plant is not relevant if we alread know about the presence of fungus. \n",
    "\n",
    "The presence of fungus is common called post-treatment variable bause it is consequences of other variables. So when we control for fungus, the model is implicitly answering the question: Once we already know whether or not a plant developed fungus, does soil treatment matter? The answer is “no,” because soil treatment has its effects on growth through reducing fungus. But we actually want to know, based on the design of the experiment, is the impact of treatment on growth. To measure this properly, we should omit the post-treatment variable fungus.\n",
    "\n",
    "It is important to notice that the model will work fine for prediction. But, now, it isn't our propose. \n"
   ]
  },
  {
   "cell_type": "code",
   "execution_count": 11,
   "id": "union-steps",
   "metadata": {},
   "outputs": [
    {
     "name": "stderr",
     "output_type": "stream",
     "text": [
      "Auto-assigning NUTS sampler...\n",
      "Initializing NUTS using jitter+adapt_diag...\n",
      "c:\\users\\gcram\\miniconda3\\envs\\torch_env\\lib\\site-packages\\theano\\tensor\\elemwise.py:826: RuntimeWarning: divide by zero encountered in log\n",
      "  variables = ufunc(*ufunc_args, **ufunc_kwargs)\n",
      "c:\\users\\gcram\\miniconda3\\envs\\torch_env\\lib\\site-packages\\theano\\tensor\\elemwise.py:826: RuntimeWarning: invalid value encountered in multiply\n",
      "  variables = ufunc(*ufunc_args, **ufunc_kwargs)\n",
      "Multiprocess sampling (4 chains in 4 jobs)\n",
      "NUTS: [sigma, bt, a]\n"
     ]
    },
    {
     "data": {
      "text/html": [
       "\n",
       "<style>\n",
       "    /* Turns off some styling */\n",
       "    progress {\n",
       "        /* gets rid of default border in Firefox and Opera. */\n",
       "        border: none;\n",
       "        /* Needs to be in here for Safari polyfill so background images work as expected. */\n",
       "        background-size: auto;\n",
       "    }\n",
       "    .progress-bar-interrupted, .progress-bar-interrupted::-webkit-progress-bar {\n",
       "        background: #F44336;\n",
       "    }\n",
       "</style>\n"
      ],
      "text/plain": [
       "<IPython.core.display.HTML object>"
      ]
     },
     "metadata": {},
     "output_type": "display_data"
    },
    {
     "data": {
      "text/html": [
       "\n",
       "    <div>\n",
       "      <progress value='8000' class='' max='8000' style='width:300px; height:20px; vertical-align: middle;'></progress>\n",
       "      100.00% [8000/8000 02:35<00:00 Sampling 4 chains, 0 divergences]\n",
       "    </div>\n",
       "    "
      ],
      "text/plain": [
       "<IPython.core.display.HTML object>"
      ]
     },
     "metadata": {},
     "output_type": "display_data"
    },
    {
     "name": "stderr",
     "output_type": "stream",
     "text": [
      "Sampling 4 chains for 1_000 tune and 1_000 draw iterations (4_000 + 4_000 draws total) took 165 seconds.\n",
      "Got error No model on context stack. trying to find log_likelihood in translation.\n"
     ]
    },
    {
     "data": {
      "text/html": [
       "<div>\n",
       "<style scoped>\n",
       "    .dataframe tbody tr th:only-of-type {\n",
       "        vertical-align: middle;\n",
       "    }\n",
       "\n",
       "    .dataframe tbody tr th {\n",
       "        vertical-align: top;\n",
       "    }\n",
       "\n",
       "    .dataframe thead th {\n",
       "        text-align: right;\n",
       "    }\n",
       "</style>\n",
       "<table border=\"1\" class=\"dataframe\">\n",
       "  <thead>\n",
       "    <tr style=\"text-align: right;\">\n",
       "      <th></th>\n",
       "      <th>mean</th>\n",
       "      <th>sd</th>\n",
       "      <th>hdi_3%</th>\n",
       "      <th>hdi_97%</th>\n",
       "      <th>mcse_mean</th>\n",
       "      <th>mcse_sd</th>\n",
       "      <th>ess_bulk</th>\n",
       "      <th>ess_tail</th>\n",
       "      <th>r_hat</th>\n",
       "    </tr>\n",
       "  </thead>\n",
       "  <tbody>\n",
       "    <tr>\n",
       "      <th>a</th>\n",
       "      <td>1.33</td>\n",
       "      <td>0.03</td>\n",
       "      <td>1.28</td>\n",
       "      <td>1.38</td>\n",
       "      <td>0.0</td>\n",
       "      <td>0.0</td>\n",
       "      <td>2043.42</td>\n",
       "      <td>2343.20</td>\n",
       "      <td>1.0</td>\n",
       "    </tr>\n",
       "    <tr>\n",
       "      <th>bt</th>\n",
       "      <td>0.15</td>\n",
       "      <td>0.04</td>\n",
       "      <td>0.08</td>\n",
       "      <td>0.22</td>\n",
       "      <td>0.0</td>\n",
       "      <td>0.0</td>\n",
       "      <td>2160.97</td>\n",
       "      <td>2228.24</td>\n",
       "      <td>1.0</td>\n",
       "    </tr>\n",
       "    <tr>\n",
       "      <th>sigma</th>\n",
       "      <td>1.89</td>\n",
       "      <td>0.14</td>\n",
       "      <td>1.65</td>\n",
       "      <td>2.15</td>\n",
       "      <td>0.0</td>\n",
       "      <td>0.0</td>\n",
       "      <td>2046.98</td>\n",
       "      <td>1825.27</td>\n",
       "      <td>1.0</td>\n",
       "    </tr>\n",
       "  </tbody>\n",
       "</table>\n",
       "</div>"
      ],
      "text/plain": [
       "       mean    sd  hdi_3%  hdi_97%  mcse_mean  mcse_sd  ess_bulk  ess_tail  \\\n",
       "a      1.33  0.03    1.28     1.38        0.0      0.0   2043.42   2343.20   \n",
       "bt     0.15  0.04    0.08     0.22        0.0      0.0   2160.97   2228.24   \n",
       "sigma  1.89  0.14    1.65     2.15        0.0      0.0   2046.98   1825.27   \n",
       "\n",
       "       r_hat  \n",
       "a        1.0  \n",
       "bt       1.0  \n",
       "sigma    1.0  "
      ]
     },
     "execution_count": 11,
     "metadata": {},
     "output_type": "execute_result"
    }
   ],
   "source": [
    "with pm.Model() as m_6_8:\n",
    "    a = pm.Normal(\"a\", 0, 0.2)\n",
    "    bt = pm.Normal(\"bt\", 0, 0.5)\n",
    "\n",
    "    p = a + bt * d.treatment\n",
    "\n",
    "    mu = p * d.h0\n",
    "    sigma = pm.Exponential(\"sigma\", 1)\n",
    "\n",
    "    h1 = pm.Normal(\"h1\", mu=mu, sigma=sigma, observed=d.h1)\n",
    "\n",
    "    m_6_8_trace = pm.sample()\n",
    "\n",
    "az.summary(m_6_8_trace, round_to=2)"
   ]
  },
  {
   "cell_type": "markdown",
   "id": "purple-fruit",
   "metadata": {},
   "source": [
    "Now, we can see that the treatment really matter. \n",
    "\n",
    "\n",
    "One interest thing about this variable ie the conditional independence. notation H1 ⊥⊥ T|F -> h1 é independente de T, ao se condicionar em F. There is no information in T about H1 that is not also in F.  So once we know F, learning T provides no additional information about H1.\n",
    "\n",
    "So, what is the big deal here? The first thing is that just adding variables to a model can do a lot of damage. In a first look, could be intuitive that the treatment does not has effect, so it meight be excluded in the prediction. As we saw, it could had been a huge mistake.  "
   ]
  },
  {
   "cell_type": "code",
   "execution_count": null,
   "id": "sorted-jones",
   "metadata": {},
   "outputs": [],
   "source": []
  },
  {
   "cell_type": "markdown",
   "id": "cross-headset",
   "metadata": {},
   "source": [
    "Now, let's go to a real world problem. \n",
    "\n",
    "### US Berclay discrimination\n"
   ]
  },
  {
   "cell_type": "code",
   "execution_count": 2,
   "id": "numerous-simon",
   "metadata": {},
   "outputs": [
    {
     "data": {
      "text/html": [
       "<div>\n",
       "<style scoped>\n",
       "    .dataframe tbody tr th:only-of-type {\n",
       "        vertical-align: middle;\n",
       "    }\n",
       "\n",
       "    .dataframe tbody tr th {\n",
       "        vertical-align: top;\n",
       "    }\n",
       "\n",
       "    .dataframe thead th {\n",
       "        text-align: right;\n",
       "    }\n",
       "</style>\n",
       "<table border=\"1\" class=\"dataframe\">\n",
       "  <thead>\n",
       "    <tr style=\"text-align: right;\">\n",
       "      <th></th>\n",
       "      <th>dept</th>\n",
       "      <th>applicant.gender</th>\n",
       "      <th>admit</th>\n",
       "      <th>reject</th>\n",
       "      <th>applications</th>\n",
       "    </tr>\n",
       "  </thead>\n",
       "  <tbody>\n",
       "    <tr>\n",
       "      <th>1</th>\n",
       "      <td>A</td>\n",
       "      <td>male</td>\n",
       "      <td>512</td>\n",
       "      <td>313</td>\n",
       "      <td>825</td>\n",
       "    </tr>\n",
       "    <tr>\n",
       "      <th>2</th>\n",
       "      <td>A</td>\n",
       "      <td>female</td>\n",
       "      <td>89</td>\n",
       "      <td>19</td>\n",
       "      <td>108</td>\n",
       "    </tr>\n",
       "    <tr>\n",
       "      <th>3</th>\n",
       "      <td>B</td>\n",
       "      <td>male</td>\n",
       "      <td>353</td>\n",
       "      <td>207</td>\n",
       "      <td>560</td>\n",
       "    </tr>\n",
       "    <tr>\n",
       "      <th>4</th>\n",
       "      <td>B</td>\n",
       "      <td>female</td>\n",
       "      <td>17</td>\n",
       "      <td>8</td>\n",
       "      <td>25</td>\n",
       "    </tr>\n",
       "    <tr>\n",
       "      <th>5</th>\n",
       "      <td>C</td>\n",
       "      <td>male</td>\n",
       "      <td>120</td>\n",
       "      <td>205</td>\n",
       "      <td>325</td>\n",
       "    </tr>\n",
       "  </tbody>\n",
       "</table>\n",
       "</div>"
      ],
      "text/plain": [
       "  dept applicant.gender  admit  reject  applications\n",
       "1    A             male    512     313           825\n",
       "2    A           female     89      19           108\n",
       "3    B             male    353     207           560\n",
       "4    B           female     17       8            25\n",
       "5    C             male    120     205           325"
      ]
     },
     "execution_count": 2,
     "metadata": {},
     "output_type": "execute_result"
    }
   ],
   "source": [
    "def inv_logit(p):\n",
    "    return np.exp(p) / (1 + np.exp(p))\n",
    "d_ad = pd.read_csv(\"Data/UCBadmit.csv\", sep=\";\")\n",
    "d_ad.head()"
   ]
  },
  {
   "cell_type": "code",
   "execution_count": 16,
   "id": "ruled-league",
   "metadata": {},
   "outputs": [
    {
     "data": {
      "text/plain": [
       "<matplotlib.axes._axes.Axes at 0x2844ca9c488>"
      ]
     },
     "execution_count": 16,
     "metadata": {},
     "output_type": "execute_result"
    },
    {
     "data": {
      "image/png": "[encoded data removed]",
      "text/plain": [
       "<Figure size 493.228x266.457 with 1 Axes>"
      ]
     },
     "metadata": {},
     "output_type": "display_data"
    }
   ],
   "source": [
    "plant_dag = CausalGraphicalModel(\n",
    "    nodes=[\"Gen\", \"Dept\",\"Ad\"], edges=[(\"Gen\", \"Dept\"), (\"Gen\", \"Ad\"), (\"Dept\", \"Ad\")]\n",
    ")\n",
    "pgm = daft.PGM()\n",
    "coordinates = {\"Gen\": (0, 0), \"Dept\": (4, 4), \"Ad\": (8, 0)}\n",
    "for node in plant_dag.dag.nodes:\n",
    "    pgm.add_node(node, node, *coordinates[node])\n",
    "for edge in plant_dag.dag.edges:\n",
    "    pgm.add_edge(*edge)\n",
    "pgm.render()\n",
    "# plt.gca().invert_yaxis()"
   ]
  },
  {
   "cell_type": "markdown",
   "id": "prescription-mexico",
   "metadata": {},
   "source": [
    "The Gen (Gender) to Ad (admission) path is the discriminative path. "
   ]
  },
  {
   "cell_type": "code",
   "execution_count": 3,
   "id": "steady-equilibrium",
   "metadata": {},
   "outputs": [
    {
     "data": {
      "text/html": [
       "<div>\n",
       "<style scoped>\n",
       "    .dataframe tbody tr th:only-of-type {\n",
       "        vertical-align: middle;\n",
       "    }\n",
       "\n",
       "    .dataframe tbody tr th {\n",
       "        vertical-align: top;\n",
       "    }\n",
       "\n",
       "    .dataframe thead th {\n",
       "        text-align: right;\n",
       "    }\n",
       "</style>\n",
       "<table border=\"1\" class=\"dataframe\">\n",
       "  <thead>\n",
       "    <tr style=\"text-align: right;\">\n",
       "      <th></th>\n",
       "      <th>Adimission rate</th>\n",
       "    </tr>\n",
       "    <tr>\n",
       "      <th>applicant.gender</th>\n",
       "      <th></th>\n",
       "    </tr>\n",
       "  </thead>\n",
       "  <tbody>\n",
       "    <tr>\n",
       "      <th>female</th>\n",
       "      <td>0.303542</td>\n",
       "    </tr>\n",
       "    <tr>\n",
       "      <th>male</th>\n",
       "      <td>0.445188</td>\n",
       "    </tr>\n",
       "  </tbody>\n",
       "</table>\n",
       "</div>"
      ],
      "text/plain": [
       "                  Adimission rate\n",
       "applicant.gender                 \n",
       "female                   0.303542\n",
       "male                     0.445188"
      ]
     },
     "execution_count": 3,
     "metadata": {},
     "output_type": "execute_result"
    }
   ],
   "source": [
    "data = d_ad.groupby(['applicant.gender']).mean()\n",
    "data['Adimission rate'] = data['admit']/data['applications']\n",
    "data[['Adimission rate']]"
   ]
  },
  {
   "cell_type": "markdown",
   "id": "creative-munich",
   "metadata": {},
   "source": [
    "So, this is the main motive of the suspecious discrimination. The mean adimission rate of the  male is higher than the female. \n",
    "\n",
    "Let's define a simple Generalized Linear Models. \n",
    "\n",
    "\n",
    "$$ Adim \\sim  Binomial(N, p)$$\n",
    "$$ logit(p) = a_{[m,f]} $$\n",
    "$$ a_m \\sim Normal(0,1)$$\n",
    "$$ a_f \\sim Normal(0,1)$$\n"
   ]
  },
  {
   "cell_type": "code",
   "execution_count": 40,
   "id": "abroad-greece",
   "metadata": {},
   "outputs": [
    {
     "name": "stderr",
     "output_type": "stream",
     "text": [
      "Auto-assigning NUTS sampler...\n",
      "Initializing NUTS using jitter+adapt_diag...\n",
      "C:\\Users\\gcram\\miniconda3\\envs\\torch_v2\\lib\\site-packages\\theano\\tensor\\elemwise.py:826: RuntimeWarning: divide by zero encountered in log\n",
      "  variables = ufunc(*ufunc_args, **ufunc_kwargs)\n",
      "C:\\Users\\gcram\\miniconda3\\envs\\torch_v2\\lib\\site-packages\\theano\\tensor\\elemwise.py:826: RuntimeWarning: invalid value encountered in multiply\n",
      "  variables = ufunc(*ufunc_args, **ufunc_kwargs)\n",
      "Multiprocess sampling (4 chains in 4 jobs)\n",
      "NUTS: [af]\n"
     ]
    },
    {
     "data": {
      "text/html": [
       "\n",
       "<style>\n",
       "    /* Turns off some styling */\n",
       "    progress {\n",
       "        /* gets rid of default border in Firefox and Opera. */\n",
       "        border: none;\n",
       "        /* Needs to be in here for Safari polyfill so background images work as expected. */\n",
       "        background-size: auto;\n",
       "    }\n",
       "    .progress-bar-interrupted, .progress-bar-interrupted::-webkit-progress-bar {\n",
       "        background: #F44336;\n",
       "    }\n",
       "</style>\n"
      ],
      "text/plain": [
       "<IPython.core.display.HTML object>"
      ]
     },
     "metadata": {},
     "output_type": "display_data"
    },
    {
     "data": {
      "text/html": [
       "\n",
       "    <div>\n",
       "      <progress value='24000' class='' max='24000' style='width:300px; height:20px; vertical-align: middle;'></progress>\n",
       "      100.00% [24000/24000 00:17<00:00 Sampling 4 chains, 0 divergences]\n",
       "    </div>\n",
       "    "
      ],
      "text/plain": [
       "<IPython.core.display.HTML object>"
      ]
     },
     "metadata": {},
     "output_type": "display_data"
    },
    {
     "name": "stderr",
     "output_type": "stream",
     "text": [
      "Sampling 4 chains for 5_000 tune and 1_000 draw iterations (20_000 + 4_000 draws total) took 27 seconds.\n",
      "The acceptance probability does not match the target. It is 0.8790397675934343, but should be close to 0.8. Try to increase the number of tuning steps.\n",
      "The acceptance probability does not match the target. It is 0.7051556742480998, but should be close to 0.8. Try to increase the number of tuning steps.\n"
     ]
    }
   ],
   "source": [
    "# binomial model of overall admission probability\n",
    "data = d_ad[d_ad['applicant.gender']=='female']\n",
    "with pm.Model() as m_binom:\n",
    "    a_f = pm.Normal(\"af\", 0, 1)\n",
    "    p = pm.math.invlogit(a_f)\n",
    "    admit = pm.Binomial(\"admit\", p=p, n=data.applications, observed=data.admit)\n",
    "    trace_binom_f = pm.sample(1000, tune=5000)"
   ]
  },
  {
   "cell_type": "code",
   "execution_count": 42,
   "id": "designing-establishment",
   "metadata": {},
   "outputs": [
    {
     "name": "stderr",
     "output_type": "stream",
     "text": [
      "Auto-assigning NUTS sampler...\n",
      "Initializing NUTS using jitter+adapt_diag...\n",
      "C:\\Users\\gcram\\miniconda3\\envs\\torch_v2\\lib\\site-packages\\theano\\tensor\\elemwise.py:826: RuntimeWarning: divide by zero encountered in log\n",
      "  variables = ufunc(*ufunc_args, **ufunc_kwargs)\n",
      "C:\\Users\\gcram\\miniconda3\\envs\\torch_v2\\lib\\site-packages\\theano\\tensor\\elemwise.py:826: RuntimeWarning: invalid value encountered in multiply\n",
      "  variables = ufunc(*ufunc_args, **ufunc_kwargs)\n",
      "Multiprocess sampling (4 chains in 4 jobs)\n",
      "NUTS: [am]\n"
     ]
    },
    {
     "data": {
      "text/html": [
       "\n",
       "<style>\n",
       "    /* Turns off some styling */\n",
       "    progress {\n",
       "        /* gets rid of default border in Firefox and Opera. */\n",
       "        border: none;\n",
       "        /* Needs to be in here for Safari polyfill so background images work as expected. */\n",
       "        background-size: auto;\n",
       "    }\n",
       "    .progress-bar-interrupted, .progress-bar-interrupted::-webkit-progress-bar {\n",
       "        background: #F44336;\n",
       "    }\n",
       "</style>\n"
      ],
      "text/plain": [
       "<IPython.core.display.HTML object>"
      ]
     },
     "metadata": {},
     "output_type": "display_data"
    },
    {
     "data": {
      "text/html": [
       "\n",
       "    <div>\n",
       "      <progress value='24000' class='' max='24000' style='width:300px; height:20px; vertical-align: middle;'></progress>\n",
       "      100.00% [24000/24000 00:17<00:00 Sampling 4 chains, 0 divergences]\n",
       "    </div>\n",
       "    "
      ],
      "text/plain": [
       "<IPython.core.display.HTML object>"
      ]
     },
     "metadata": {},
     "output_type": "display_data"
    },
    {
     "name": "stderr",
     "output_type": "stream",
     "text": [
      "Sampling 4 chains for 5_000 tune and 1_000 draw iterations (20_000 + 4_000 draws total) took 27 seconds.\n"
     ]
    }
   ],
   "source": [
    "data = d_ad[d_ad['applicant.gender']=='male']\n",
    "#data = d_ad\n",
    "with pm.Model() as m_binom:\n",
    "    a_m = pm.Normal(\"am\", 0, 1)\n",
    "    p = pm.math.invlogit(a_m)\n",
    "    admit = pm.Binomial(\"admit\", p=p, n=data.applications, observed=data.admit)\n",
    "    trace_binom_m = pm.sample(1000, tune=5000)"
   ]
  },
  {
   "cell_type": "code",
   "execution_count": 44,
   "id": "arranged-rochester",
   "metadata": {},
   "outputs": [
    {
     "data": {
      "text/plain": [
       "<AxesSubplot:ylabel='Density'>"
      ]
     },
     "execution_count": 44,
     "metadata": {},
     "output_type": "execute_result"
    },
    {
     "data": {
      "image/png": "[encoded data removed]",
      "text/plain": [
       "<Figure size 432x288 with 1 Axes>"
      ]
     },
     "metadata": {},
     "output_type": "display_data"
    }
   ],
   "source": [
    "diff_post =np.array(list(map(inv_logit,trace_binom_m['am']))) - np.array(list(map(inv_logit,trace_binom_f['af'])))\n",
    "import seaborn as sns\n",
    "sns.set_style('whitegrid')\n",
    "sns.kdeplot(np.array(diff_post), bw=0.5)\n"
   ]
  },
  {
   "cell_type": "markdown",
   "id": "unusual-shock",
   "metadata": {},
   "source": [
    "That’s because you’ve just committed the gravest sin of mistaking association for causation. To understand why, let’s take a look into the main enemy of causal inference.\n",
    "\n",
    "We just subtract the mean outcomes between the two groups, and it cause a mislanding undertanging. \n",
    "\n",
    "When confronted with the claim that wonmen have less chance to been adimitted in University beacuse of discrimination, we can rebut it by saying that these wonmen will probably not been adimitted in University, even without discrimination.\n",
    "\n",
    "But now, we are going the prove if there is discrimination or not. \n",
    "\n",
    "To begun, we will create a parameter for each deptartment and gender. And then, fit the model. "
   ]
  },
  {
   "cell_type": "code",
   "execution_count": 4,
   "id": "constant-triumph",
   "metadata": {},
   "outputs": [
    {
     "name": "stderr",
     "output_type": "stream",
     "text": [
      "Auto-assigning NUTS sampler...\n",
      "Initializing NUTS using jitter+adapt_diag...\n",
      "C:\\Users\\gcram\\miniconda3\\envs\\torch_v2\\lib\\site-packages\\theano\\tensor\\elemwise.py:826: RuntimeWarning: divide by zero encountered in log\n",
      "  variables = ufunc(*ufunc_args, **ufunc_kwargs)\n",
      "C:\\Users\\gcram\\miniconda3\\envs\\torch_v2\\lib\\site-packages\\theano\\tensor\\elemwise.py:826: RuntimeWarning: invalid value encountered in multiply\n",
      "  variables = ufunc(*ufunc_args, **ufunc_kwargs)\n",
      "Multiprocess sampling (4 chains in 4 jobs)\n",
      "NUTS: [par]\n"
     ]
    },
    {
     "data": {
      "text/html": [
       "\n",
       "<style>\n",
       "    /* Turns off some styling */\n",
       "    progress {\n",
       "        /* gets rid of default border in Firefox and Opera. */\n",
       "        border: none;\n",
       "        /* Needs to be in here for Safari polyfill so background images work as expected. */\n",
       "        background-size: auto;\n",
       "    }\n",
       "    .progress-bar-interrupted, .progress-bar-interrupted::-webkit-progress-bar {\n",
       "        background: #F44336;\n",
       "    }\n",
       "</style>\n"
      ],
      "text/plain": [
       "<IPython.core.display.HTML object>"
      ]
     },
     "metadata": {},
     "output_type": "display_data"
    },
    {
     "data": {
      "text/html": [
       "\n",
       "    <div>\n",
       "      <progress value='12000' class='' max='12000' style='width:300px; height:20px; vertical-align: middle;'></progress>\n",
       "      100.00% [12000/12000 00:41<00:00 Sampling 4 chains, 0 divergences]\n",
       "    </div>\n",
       "    "
      ],
      "text/plain": [
       "<IPython.core.display.HTML object>"
      ]
     },
     "metadata": {},
     "output_type": "display_data"
    },
    {
     "name": "stderr",
     "output_type": "stream",
     "text": [
      "Sampling 4 chains for 2_000 tune and 1_000 draw iterations (8_000 + 4_000 draws total) took 52 seconds.\n"
     ]
    }
   ],
   "source": [
    "df_data = d_ad.groupby(['applicant.gender','dept']).sum()\n",
    "coords = {\"gender\": df_data.index, \"data\":df_data.columns}\n",
    "with pm.Model(coords=coords) as m_binom:\n",
    "    par = pm.Normal(\"par\", 0, 1,shape =(2,6))\n",
    "    #data = pm.Data(\"data\",df_data, dims=(\"gender\", \"data\"))\n",
    "    p = pm.math.invlogit(par)\n",
    "    admit_obs  = pm.Data(\"admit_obs\", df_data.admit.values.reshape(2,6))\n",
    "    pm.Binomial(\"admit\", p=p, n=df_data.applications.values.reshape(2,6), observed=admit_obs)\n",
    "    trace_binom = pm.sample(1000, tune=2000,return_inferencedata=True)\n",
    "\n"
   ]
  },
  {
   "cell_type": "code",
   "execution_count": 5,
   "id": "awful-sucking",
   "metadata": {},
   "outputs": [
    {
     "data": {
      "text/html": [
       "<div>\n",
       "<style scoped>\n",
       "    .dataframe tbody tr th:only-of-type {\n",
       "        vertical-align: middle;\n",
       "    }\n",
       "\n",
       "    .dataframe tbody tr th {\n",
       "        vertical-align: top;\n",
       "    }\n",
       "\n",
       "    .dataframe thead th {\n",
       "        text-align: right;\n",
       "    }\n",
       "</style>\n",
       "<table border=\"1\" class=\"dataframe\">\n",
       "  <thead>\n",
       "    <tr style=\"text-align: right;\">\n",
       "      <th></th>\n",
       "      <th>mean</th>\n",
       "      <th>sd</th>\n",
       "      <th>hdi_3%</th>\n",
       "      <th>hdi_97%</th>\n",
       "      <th>mcse_mean</th>\n",
       "      <th>mcse_sd</th>\n",
       "      <th>ess_bulk</th>\n",
       "      <th>ess_tail</th>\n",
       "      <th>r_hat</th>\n",
       "    </tr>\n",
       "  </thead>\n",
       "  <tbody>\n",
       "    <tr>\n",
       "      <th>par[0, 0]</th>\n",
       "      <td>1.47</td>\n",
       "      <td>0.24</td>\n",
       "      <td>1.01</td>\n",
       "      <td>1.92</td>\n",
       "      <td>0.0</td>\n",
       "      <td>0.0</td>\n",
       "      <td>6178.0</td>\n",
       "      <td>3110.0</td>\n",
       "      <td>1.0</td>\n",
       "    </tr>\n",
       "    <tr>\n",
       "      <th>par[0, 1]</th>\n",
       "      <td>0.65</td>\n",
       "      <td>0.39</td>\n",
       "      <td>-0.12</td>\n",
       "      <td>1.34</td>\n",
       "      <td>0.0</td>\n",
       "      <td>0.0</td>\n",
       "      <td>5294.0</td>\n",
       "      <td>2845.0</td>\n",
       "      <td>1.0</td>\n",
       "    </tr>\n",
       "    <tr>\n",
       "      <th>par[0, 2]</th>\n",
       "      <td>-0.66</td>\n",
       "      <td>0.08</td>\n",
       "      <td>-0.82</td>\n",
       "      <td>-0.50</td>\n",
       "      <td>0.0</td>\n",
       "      <td>0.0</td>\n",
       "      <td>5229.0</td>\n",
       "      <td>2965.0</td>\n",
       "      <td>1.0</td>\n",
       "    </tr>\n",
       "    <tr>\n",
       "      <th>par[0, 3]</th>\n",
       "      <td>-0.62</td>\n",
       "      <td>0.11</td>\n",
       "      <td>-0.82</td>\n",
       "      <td>-0.42</td>\n",
       "      <td>0.0</td>\n",
       "      <td>0.0</td>\n",
       "      <td>6008.0</td>\n",
       "      <td>2992.0</td>\n",
       "      <td>1.0</td>\n",
       "    </tr>\n",
       "    <tr>\n",
       "      <th>par[0, 4]</th>\n",
       "      <td>-1.14</td>\n",
       "      <td>0.12</td>\n",
       "      <td>-1.36</td>\n",
       "      <td>-0.92</td>\n",
       "      <td>0.0</td>\n",
       "      <td>0.0</td>\n",
       "      <td>6169.0</td>\n",
       "      <td>3253.0</td>\n",
       "      <td>1.0</td>\n",
       "    </tr>\n",
       "    <tr>\n",
       "      <th>par[0, 5]</th>\n",
       "      <td>-2.49</td>\n",
       "      <td>0.20</td>\n",
       "      <td>-2.88</td>\n",
       "      <td>-2.13</td>\n",
       "      <td>0.0</td>\n",
       "      <td>0.0</td>\n",
       "      <td>5668.0</td>\n",
       "      <td>3187.0</td>\n",
       "      <td>1.0</td>\n",
       "    </tr>\n",
       "    <tr>\n",
       "      <th>par[1, 0]</th>\n",
       "      <td>0.49</td>\n",
       "      <td>0.07</td>\n",
       "      <td>0.36</td>\n",
       "      <td>0.62</td>\n",
       "      <td>0.0</td>\n",
       "      <td>0.0</td>\n",
       "      <td>5440.0</td>\n",
       "      <td>3040.0</td>\n",
       "      <td>1.0</td>\n",
       "    </tr>\n",
       "    <tr>\n",
       "      <th>par[1, 1]</th>\n",
       "      <td>0.53</td>\n",
       "      <td>0.09</td>\n",
       "      <td>0.38</td>\n",
       "      <td>0.70</td>\n",
       "      <td>0.0</td>\n",
       "      <td>0.0</td>\n",
       "      <td>4388.0</td>\n",
       "      <td>2935.0</td>\n",
       "      <td>1.0</td>\n",
       "    </tr>\n",
       "    <tr>\n",
       "      <th>par[1, 2]</th>\n",
       "      <td>-0.53</td>\n",
       "      <td>0.11</td>\n",
       "      <td>-0.73</td>\n",
       "      <td>-0.31</td>\n",
       "      <td>0.0</td>\n",
       "      <td>0.0</td>\n",
       "      <td>5944.0</td>\n",
       "      <td>3602.0</td>\n",
       "      <td>1.0</td>\n",
       "    </tr>\n",
       "    <tr>\n",
       "      <th>par[1, 3]</th>\n",
       "      <td>-0.70</td>\n",
       "      <td>0.10</td>\n",
       "      <td>-0.89</td>\n",
       "      <td>-0.50</td>\n",
       "      <td>0.0</td>\n",
       "      <td>0.0</td>\n",
       "      <td>6390.0</td>\n",
       "      <td>3051.0</td>\n",
       "      <td>1.0</td>\n",
       "    </tr>\n",
       "    <tr>\n",
       "      <th>par[1, 4]</th>\n",
       "      <td>-0.94</td>\n",
       "      <td>0.16</td>\n",
       "      <td>-1.24</td>\n",
       "      <td>-0.63</td>\n",
       "      <td>0.0</td>\n",
       "      <td>0.0</td>\n",
       "      <td>6341.0</td>\n",
       "      <td>3135.0</td>\n",
       "      <td>1.0</td>\n",
       "    </tr>\n",
       "    <tr>\n",
       "      <th>par[1, 5]</th>\n",
       "      <td>-2.66</td>\n",
       "      <td>0.20</td>\n",
       "      <td>-3.03</td>\n",
       "      <td>-2.30</td>\n",
       "      <td>0.0</td>\n",
       "      <td>0.0</td>\n",
       "      <td>5561.0</td>\n",
       "      <td>3113.0</td>\n",
       "      <td>1.0</td>\n",
       "    </tr>\n",
       "  </tbody>\n",
       "</table>\n",
       "</div>"
      ],
      "text/plain": [
       "           mean    sd  hdi_3%  hdi_97%  mcse_mean  mcse_sd  ess_bulk  \\\n",
       "par[0, 0]  1.47  0.24    1.01     1.92        0.0      0.0    6178.0   \n",
       "par[0, 1]  0.65  0.39   -0.12     1.34        0.0      0.0    5294.0   \n",
       "par[0, 2] -0.66  0.08   -0.82    -0.50        0.0      0.0    5229.0   \n",
       "par[0, 3] -0.62  0.11   -0.82    -0.42        0.0      0.0    6008.0   \n",
       "par[0, 4] -1.14  0.12   -1.36    -0.92        0.0      0.0    6169.0   \n",
       "par[0, 5] -2.49  0.20   -2.88    -2.13        0.0      0.0    5668.0   \n",
       "par[1, 0]  0.49  0.07    0.36     0.62        0.0      0.0    5440.0   \n",
       "par[1, 1]  0.53  0.09    0.38     0.70        0.0      0.0    4388.0   \n",
       "par[1, 2] -0.53  0.11   -0.73    -0.31        0.0      0.0    5944.0   \n",
       "par[1, 3] -0.70  0.10   -0.89    -0.50        0.0      0.0    6390.0   \n",
       "par[1, 4] -0.94  0.16   -1.24    -0.63        0.0      0.0    6341.0   \n",
       "par[1, 5] -2.66  0.20   -3.03    -2.30        0.0      0.0    5561.0   \n",
       "\n",
       "           ess_tail  r_hat  \n",
       "par[0, 0]    3110.0    1.0  \n",
       "par[0, 1]    2845.0    1.0  \n",
       "par[0, 2]    2965.0    1.0  \n",
       "par[0, 3]    2992.0    1.0  \n",
       "par[0, 4]    3253.0    1.0  \n",
       "par[0, 5]    3187.0    1.0  \n",
       "par[1, 0]    3040.0    1.0  \n",
       "par[1, 1]    2935.0    1.0  \n",
       "par[1, 2]    3602.0    1.0  \n",
       "par[1, 3]    3051.0    1.0  \n",
       "par[1, 4]    3135.0    1.0  \n",
       "par[1, 5]    3113.0    1.0  "
      ]
     },
     "execution_count": 5,
     "metadata": {},
     "output_type": "execute_result"
    }
   ],
   "source": [
    "az.summary(trace_binom).round(2)"
   ]
  },
  {
   "cell_type": "code",
   "execution_count": 6,
   "id": "duplicate-tower",
   "metadata": {},
   "outputs": [],
   "source": [
    "from scipy.stats import binom\n",
    "params = trace_binom.posterior.par.data.reshape(4000,2,6)\n",
    "myInvLogit = lambda t: inv_logit(t)\n",
    "vfunc = np.vectorize(myInvLogit)\n",
    "params = vfunc(params)"
   ]
  },
  {
   "cell_type": "markdown",
   "id": "electrical-possibility",
   "metadata": {},
   "source": [
    "Here is the posterior distribution of the posterior parametes, back in regular scale. It can be interpretade as the tendency of a person to be adimitted acording to gander and deptartment. \n",
    "\n",
    "Now, let's simulate from pesterior to see if will be a divergence between male and female admission. "
   ]
  },
  {
   "cell_type": "code",
   "execution_count": 17,
   "id": "minus-infrared",
   "metadata": {},
   "outputs": [
    {
     "data": {
      "text/html": [
       "<div>\n",
       "<style scoped>\n",
       "    .dataframe tbody tr th:only-of-type {\n",
       "        vertical-align: middle;\n",
       "    }\n",
       "\n",
       "    .dataframe tbody tr th {\n",
       "        vertical-align: top;\n",
       "    }\n",
       "\n",
       "    .dataframe thead th {\n",
       "        text-align: right;\n",
       "    }\n",
       "</style>\n",
       "<table border=\"1\" class=\"dataframe\">\n",
       "  <thead>\n",
       "    <tr style=\"text-align: right;\">\n",
       "      <th></th>\n",
       "      <th>male_A</th>\n",
       "      <th>female_A</th>\n",
       "      <th>male_B</th>\n",
       "      <th>female_B</th>\n",
       "      <th>male_C</th>\n",
       "      <th>female_C</th>\n",
       "      <th>male_D</th>\n",
       "      <th>female_D</th>\n",
       "      <th>male_E</th>\n",
       "      <th>female_E</th>\n",
       "      <th>male_F</th>\n",
       "      <th>female_F</th>\n",
       "    </tr>\n",
       "  </thead>\n",
       "  <tbody>\n",
       "    <tr>\n",
       "      <th>mean</th>\n",
       "      <td>0.810591</td>\n",
       "      <td>0.619933</td>\n",
       "      <td>0.652748</td>\n",
       "      <td>0.629542</td>\n",
       "      <td>0.341347</td>\n",
       "      <td>0.370978</td>\n",
       "      <td>0.350845</td>\n",
       "      <td>0.332367</td>\n",
       "      <td>0.242121</td>\n",
       "      <td>0.282715</td>\n",
       "      <td>0.077572</td>\n",
       "      <td>0.066288</td>\n",
       "    </tr>\n",
       "    <tr>\n",
       "      <th>std</th>\n",
       "      <td>0.036778</td>\n",
       "      <td>0.016747</td>\n",
       "      <td>0.085598</td>\n",
       "      <td>0.020315</td>\n",
       "      <td>0.019064</td>\n",
       "      <td>0.026137</td>\n",
       "      <td>0.024537</td>\n",
       "      <td>0.023238</td>\n",
       "      <td>0.021538</td>\n",
       "      <td>0.032616</td>\n",
       "      <td>0.014078</td>\n",
       "      <td>0.012273</td>\n",
       "    </tr>\n",
       "    <tr>\n",
       "      <th>min</th>\n",
       "      <td>0.666046</td>\n",
       "      <td>0.560141</td>\n",
       "      <td>0.311917</td>\n",
       "      <td>0.549649</td>\n",
       "      <td>0.278721</td>\n",
       "      <td>0.279093</td>\n",
       "      <td>0.270102</td>\n",
       "      <td>0.250920</td>\n",
       "      <td>0.166217</td>\n",
       "      <td>0.174563</td>\n",
       "      <td>0.037459</td>\n",
       "      <td>0.024886</td>\n",
       "    </tr>\n",
       "    <tr>\n",
       "      <th>25%</th>\n",
       "      <td>0.787038</td>\n",
       "      <td>0.608278</td>\n",
       "      <td>0.596912</td>\n",
       "      <td>0.616124</td>\n",
       "      <td>0.328476</td>\n",
       "      <td>0.352997</td>\n",
       "      <td>0.333886</td>\n",
       "      <td>0.316094</td>\n",
       "      <td>0.227249</td>\n",
       "      <td>0.260947</td>\n",
       "      <td>0.067359</td>\n",
       "      <td>0.057558</td>\n",
       "    </tr>\n",
       "    <tr>\n",
       "      <th>50%</th>\n",
       "      <td>0.813308</td>\n",
       "      <td>0.619944</td>\n",
       "      <td>0.656644</td>\n",
       "      <td>0.629625</td>\n",
       "      <td>0.341215</td>\n",
       "      <td>0.371050</td>\n",
       "      <td>0.350922</td>\n",
       "      <td>0.331480</td>\n",
       "      <td>0.241919</td>\n",
       "      <td>0.282157</td>\n",
       "      <td>0.077049</td>\n",
       "      <td>0.065463</td>\n",
       "    </tr>\n",
       "    <tr>\n",
       "      <th>75%</th>\n",
       "      <td>0.836278</td>\n",
       "      <td>0.631590</td>\n",
       "      <td>0.713937</td>\n",
       "      <td>0.643417</td>\n",
       "      <td>0.354308</td>\n",
       "      <td>0.388643</td>\n",
       "      <td>0.367482</td>\n",
       "      <td>0.348078</td>\n",
       "      <td>0.255967</td>\n",
       "      <td>0.303731</td>\n",
       "      <td>0.086818</td>\n",
       "      <td>0.074283</td>\n",
       "    </tr>\n",
       "    <tr>\n",
       "      <th>max</th>\n",
       "      <td>0.916286</td>\n",
       "      <td>0.695559</td>\n",
       "      <td>0.903217</td>\n",
       "      <td>0.701165</td>\n",
       "      <td>0.421822</td>\n",
       "      <td>0.462800</td>\n",
       "      <td>0.438866</td>\n",
       "      <td>0.423594</td>\n",
       "      <td>0.324159</td>\n",
       "      <td>0.406868</td>\n",
       "      <td>0.136397</td>\n",
       "      <td>0.118166</td>\n",
       "    </tr>\n",
       "  </tbody>\n",
       "</table>\n",
       "</div>"
      ],
      "text/plain": [
       "        male_A  female_A    male_B  female_B    male_C  female_C    male_D  \\\n",
       "mean  0.810591  0.619933  0.652748  0.629542  0.341347  0.370978  0.350845   \n",
       "std   0.036778  0.016747  0.085598  0.020315  0.019064  0.026137  0.024537   \n",
       "min   0.666046  0.560141  0.311917  0.549649  0.278721  0.279093  0.270102   \n",
       "25%   0.787038  0.608278  0.596912  0.616124  0.328476  0.352997  0.333886   \n",
       "50%   0.813308  0.619944  0.656644  0.629625  0.341215  0.371050  0.350922   \n",
       "75%   0.836278  0.631590  0.713937  0.643417  0.354308  0.388643  0.367482   \n",
       "max   0.916286  0.695559  0.903217  0.701165  0.421822  0.462800  0.438866   \n",
       "\n",
       "      female_D    male_E  female_E    male_F  female_F  \n",
       "mean  0.332367  0.242121  0.282715  0.077572  0.066288  \n",
       "std   0.023238  0.021538  0.032616  0.014078  0.012273  \n",
       "min   0.250920  0.166217  0.174563  0.037459  0.024886  \n",
       "25%   0.316094  0.227249  0.260947  0.067359  0.057558  \n",
       "50%   0.331480  0.241919  0.282157  0.077049  0.065463  \n",
       "75%   0.348078  0.255967  0.303731  0.086818  0.074283  \n",
       "max   0.423594  0.324159  0.406868  0.136397  0.118166  "
      ]
     },
     "execution_count": 17,
     "metadata": {},
     "output_type": "execute_result"
    }
   ],
   "source": [
    "params_df = pd.DataFrame([])\n",
    "for i,dept in enumerate(['A','B','C','D','E','F']):   \n",
    "    for j,gen in enumerate(['male','female']):\n",
    "        params_df[gen + '_'+ dept] = params[:,j,i]\n",
    "params_df.describe(include = 'all').drop(index = 'count')"
   ]
  },
  {
   "cell_type": "code",
   "execution_count": 12,
   "id": "asian-dubai",
   "metadata": {},
   "outputs": [
    {
     "data": {
      "text/plain": [
       "(4000, 2, 6)"
      ]
     },
     "execution_count": 12,
     "metadata": {},
     "output_type": "execute_result"
    }
   ],
   "source": [
    "params.shape"
   ]
  },
  {
   "cell_type": "markdown",
   "id": "republican-slide",
   "metadata": {},
   "source": [
    "#### Sampling from posterior: "
   ]
  },
  {
   "cell_type": "code",
   "execution_count": 109,
   "id": "wound-application",
   "metadata": {},
   "outputs": [],
   "source": [
    "n_gender = 2 \n",
    "n_dept = 6\n",
    "post = pd.DataFrame([])\n",
    "\n",
    "for i,dept in enumerate(['A','B','C','D','E','F']):    \n",
    "#     for j,gender in enumerate(['male','female']):\n",
    "    N = dat.iloc[i*2,-1].astype(np.int32) + dat.iloc[i*2 + 1,-1].astype(np.int32)\n",
    "    post[dept] = (binom.rvs(N, params[:,j,0]) - binom.rvs(N, params[:,j,1]))/N\n"
   ]
  },
  {
   "cell_type": "code",
   "execution_count": 123,
   "id": "compliant-nowhere",
   "metadata": {},
   "outputs": [
    {
     "data": {
      "text/plain": [
       "<matplotlib.lines.Line2D at 0x178f2da4548>"
      ]
     },
     "execution_count": 123,
     "metadata": {},
     "output_type": "execute_result"
    },
    {
     "data": {
      "image/png": "[encoded data removed]",
      "text/plain": [
       "<Figure size 432x288 with 1 Axes>"
      ]
     },
     "metadata": {
      "needs_background": "light"
     },
     "output_type": "display_data"
    }
   ],
   "source": [
    "\n",
    "#post = post.div(dat['applications'].astype(np.int32).to_list(), axis='columns')\n",
    "sns.kdeplot(post.values.flatten(), bw=0.5)\n",
    "plt.axvline(0, 0,10,color = 'red')"
   ]
  },
  {
   "cell_type": "markdown",
   "id": "established-passport",
   "metadata": {},
   "source": [
    "So, as we can see, there is not a gender tendency. "
   ]
  },
  {
   "cell_type": "code",
   "execution_count": null,
   "id": "polish-bulgarian",
   "metadata": {},
   "outputs": [],
   "source": [
    "\n",
    "\n",
    "# # Poisson model of overall admission and rejection rates\n",
    "# with pm.Model() as m_pois:\n",
    "#     a = pm.Normal(\"a\", 0, 1.5, shape=2)\n",
    "#     lam = pm.math.exp(a)\n",
    "\n",
    "#     admit = pm.Poisson(\"admit\", lam[0], observed=d_ad.admit)\n",
    "#     rej = pm.Poisson(\"rej\", lam[1], observed=d_ad.reject)\n",
    "\n",
    "#     trace_pois = pm.sample(1000, tune=2000)\n",
    "# m_pois = az.summary(trace_pois).round(2)\n",
    "# (np.exp(m_pois[\"mean\"][0]) / (np.exp(m_pois[\"mean\"][0]) + np.exp(m_pois[\"mean\"][1]))).round(3)"
   ]
  },
  {
   "cell_type": "code",
   "execution_count": null,
   "id": "changed-vertex",
   "metadata": {},
   "outputs": [],
   "source": []
  },
  {
   "cell_type": "code",
   "execution_count": null,
   "id": "desirable-september",
   "metadata": {},
   "outputs": [],
   "source": []
  },
  {
   "cell_type": "markdown",
   "id": "integrated-width",
   "metadata": {},
   "source": [
    "UC BERkley explanation:\n",
    "\n"
   ]
  },
  {
   "cell_type": "code",
   "execution_count": null,
   "id": "respective-exchange",
   "metadata": {},
   "outputs": [],
   "source": []
  },
  {
   "cell_type": "markdown",
   "id": "social-blake",
   "metadata": {},
   "source": [
    " \n",
    " The bias is given by how the treated and control group differ before the treatment, that is, in case neither of them has received the treatment. \n",
    " \n",
    " We will talk more about that once we enter confounding, but for now you can think of bias arising because many things we can’t control are changing together with the treatment. \n",
    " \n",
    " Understanding this is not just remembering the equation. There is a strong intuitive argument here. To say that E[y0|t =0] = E[yo| t =1] is to say that treatment and control group are comparable before the treatment. Or, in the case that the treated had not been treated, if we could observe its y0, then its outcome would be the same as the untreated. Mathematically, the bias term would vanish:\n",
    " \n",
    " Not only that, but E[y0 - y1|t =0] = E[yo - y1| t =1] , simply because the treated and untreated are exchangeable. Hence, in this case, the difference in means BECOMES the causal effect:\n"
   ]
  },
  {
   "cell_type": "code",
   "execution_count": null,
   "id": "growing-connection",
   "metadata": {},
   "outputs": [],
   "source": [
    "Criar um experimento que se usa todas as\n",
    "variáveis do modelo sem nenum tipo de seleção e tenta-se prever com regressão linear\n",
    "e depois faz a mesma previsão com as variáveis elecionadas (vai mudar?)\n",
    "\n",
    "Explicar que os modelos não causais tendem a ser melhores para predição. "
   ]
  },
  {
   "cell_type": "code",
   "execution_count": null,
   "id": "victorian-wells",
   "metadata": {},
   "outputs": [],
   "source": [
    "US Berkley discrimination example. "
   ]
  },
  {
   "cell_type": "code",
   "execution_count": null,
   "id": "built-david",
   "metadata": {},
   "outputs": [],
   "source": []
  },
  {
   "cell_type": "code",
   "execution_count": null,
   "id": "instrumental-gibson",
   "metadata": {},
   "outputs": [],
   "source": []
  },
  {
   "cell_type": "code",
   "execution_count": null,
   "id": "metric-negative",
   "metadata": {},
   "outputs": [],
   "source": []
  },
  {
   "cell_type": "code",
   "execution_count": null,
   "id": "retired-market",
   "metadata": {},
   "outputs": [],
   "source": [
    "# cleanup_nums = {\"applicant.gender\": {\"male\": 1, \"female\": 2},\n",
    "#                 \"dept\": {\"A\": 1, \"B\": 2, \"C\": 3, \"D\": 4,\n",
    "#                                   \"E\": 5, \"F\": 6}}\n",
    "# dat = d_ad.replace(cleanup_nums)\n",
    "# coords = {\"variables\": dat.columns.values}\n",
    "# with pm.Model(coords=coords) as m_binom:\n",
    "#     par = pm.Normal(\"par\", 0, 1,shape =(2,6))\n",
    "    \n",
    "#     data = pm.Data(\"data\",dat, dims=[\"applicant.gender\", \"dept\"])\n",
    "    \n",
    "#     obs = pm.Data(\"obs\",dat, dims=(\"admit\"))\n",
    "#     N = pm.Data(\"N\",dat, dims=(\"applications\"))\n",
    "#     p = pm.math.invlogit(par)\n",
    "\n",
    "#     pm.Binomial(\"admit\", p=p, n=N, observed=obs)\n",
    "#     trace_binom = pm.sample(1000, tune=2000,return_inferencedata=True)"
   ]
  },
  {
   "cell_type": "markdown",
   "id": "maritime-bleeding",
   "metadata": {},
   "source": [
    "### References:\n",
    "Seguit a methodologia do curso: https://www.codecademy.com/learn/learn-the-basics-of-causal-inference-with-r/modules/conceptual-foundations-of-causal-inference\n",
    "\n",
    "\n",
    " First, this equation tells why association is not causation. https://matheusfacure.github.io/python-causality-handbook/01-Introduction-To-Causality.html\n"
   ]
  }
 ],
 "metadata": {
  "kernelspec": {
   "display_name": "genericEnv",
   "language": "python",
   "name": "torch_v2"
  },
  "language_info": {
   "codemirror_mode": {
    "name": "ipython",
    "version": 3
   },
   "file_extension": ".py",
   "mimetype": "text/x-python",
   "name": "python",
   "nbconvert_exporter": "python",
   "pygments_lexer": "ipython3",
   "version": "3.7.9"
  }
 },
 "nbformat": 4,
 "nbformat_minor": 5
}
