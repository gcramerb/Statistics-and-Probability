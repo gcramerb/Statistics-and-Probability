{
 "cells": [
  {
   "cell_type": "code",
   "execution_count": 31,
   "metadata": {},
   "outputs": [],
   "source": [
    "from scipy.stats import kstest,norm\n",
    "import numpy as np\n",
    "import pandas as pd"
   ]
  },
  {
   "cell_type": "code",
   "execution_count": 11,
   "metadata": {},
   "outputs": [
    {
     "data": {
      "text/plain": [
       "KstestResult(statistic=0.169094722375006, pvalue=0.10175606767345279)"
      ]
     },
     "execution_count": 11,
     "metadata": {},
     "output_type": "execute_result"
    }
   ],
   "source": [
    "# Exercicio 3\n",
    "points = norm.rvs(loc=0, scale=1, size=50, random_state=None)\n",
    "\n",
    "kstest(points,'norm')"
   ]
  },
  {
   "cell_type": "code",
   "execution_count": 37,
   "metadata": {},
   "outputs": [
    {
     "name": "stdout",
     "output_type": "stream",
     "text": [
      "E(X) =  0.48510460914294695\n",
      "E(h(X)) =  1.1474128910559693\n"
     ]
    },
    {
     "data": {
      "text/plain": [
       "array([[<matplotlib.axes._subplots.AxesSubplot object at 0x000001EA0216BAC8>]],\n",
       "      dtype=object)"
      ]
     },
     "execution_count": 37,
     "metadata": {},
     "output_type": "execute_result"
    },
    {
     "data": {
      "image/png": "[encoded data removed]",
      "text/plain": [
       "<Figure size 432x288 with 1 Axes>"
      ]
     },
     "metadata": {
      "needs_background": "light"
     },
     "output_type": "display_data"
    }
   ],
   "source": [
    "# exercicio 7\n",
    "def h(x):\n",
    "    return 1.3333* np.pi * x**3\n",
    "count = 0\n",
    "n = 1000\n",
    "p = 1/n\n",
    "for uniform in np.random.uniform(0,1,n):\n",
    "    count = count + uniform*p\n",
    "print('E(X) = ',count)\n",
    "count = 0\n",
    "for uniform in np.random.uniform(0,1,n):\n",
    "    count = count + h(uniform)*p\n",
    "print('E(h(X)) = ',count)\n",
    "\n",
    "\n",
    "count = 0\n",
    "n = 999999\n",
    "data = []\n",
    "for uniform in np.random.uniform(0,1,n):\n",
    "    data.append(h(uniform))\n",
    "data = pd.DataFrame(data)\n",
    "data.hist(bins = 100)\n",
    "    "
   ]
  },
  {
   "cell_type": "code",
   "execution_count": null,
   "metadata": {},
   "outputs": [],
   "source": [
    "#Exercicio 8: \n",
    "- inf\n",
    "-inf\n",
    "S    f"
   ]
  },
  {
   "cell_type": "code",
   "execution_count": null,
   "metadata": {},
   "outputs": [],
   "source": []
  }
 ],
 "metadata": {
  "celltoolbar": "Raw Cell Format",
  "kernelspec": {
   "display_name": "Python 3",
   "language": "python",
   "name": "python3"
  },
  "language_info": {
   "codemirror_mode": {
    "name": "ipython",
    "version": 3
   },
   "file_extension": ".py",
   "mimetype": "text/x-python",
   "name": "python",
   "nbconvert_exporter": "python",
   "pygments_lexer": "ipython3",
   "version": "3.7.7"
  }
 },
 "nbformat": 4,
 "nbformat_minor": 4
}
